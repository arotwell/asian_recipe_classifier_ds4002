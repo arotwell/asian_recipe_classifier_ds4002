{
  "nbformat": 4,
  "nbformat_minor": 0,
  "metadata": {
    "colab": {
      "provenance": [],
      "authorship_tag": "ABX9TyNXulWz25iniUIIhwUVCM5R",
      "include_colab_link": true
    },
    "kernelspec": {
      "name": "python3",
      "display_name": "Python 3"
    },
    "language_info": {
      "name": "python"
    }
  },
  "cells": [
    {
      "cell_type": "markdown",
      "metadata": {
        "id": "view-in-github",
        "colab_type": "text"
      },
      "source": [
        "<a href=\"https://colab.research.google.com/github/gatesz33/asian_recipe_classifier_ds4002/blob/main/ingredients.ipynb\" target=\"_parent\"><img src=\"https://colab.research.google.com/assets/colab-badge.svg\" alt=\"Open In Colab\"/></a>"
      ]
    },
    {
      "cell_type": "code",
      "source": [
        "import requests\n",
        "import xml.etree.ElementTree as ET\n",
        "from bs4 import BeautifulSoup\n",
        "import json\n",
        "\n",
        "# --- Target country cuisines ---\n",
        "TARGET_CUISINES = {\n",
        "    \"chinese\",\n",
        "    \"thai\",\n",
        "    \"indian\",\n",
        "    \"malaysian\",\n",
        "    \"japanese\",\n",
        "    \"korean\",\n",
        "    \"filipino\",\n",
        "    \"vietnamese\"\n",
        "}\n",
        "\n",
        "# --- Parse recipe JSON-LD (ingredients only) ---\n",
        "def parse_ingredients_jsonld(url):\n",
        "    resp = requests.get(url)\n",
        "    soup = BeautifulSoup(resp.text, \"lxml\")\n",
        "\n",
        "    for script in soup.find_all(\"script\", type=\"application/ld+json\"):\n",
        "        try:\n",
        "            data = json.loads(script.string)\n",
        "\n",
        "            if isinstance(data, list):\n",
        "                for entry in data:\n",
        "                    if entry.get(\"@type\") == \"Recipe\":\n",
        "                        return entry.get(\"recipeIngredient\", [])\n",
        "            elif isinstance(data, dict) and data.get(\"@type\") == \"Recipe\":\n",
        "                return data.get(\"recipeIngredient\", [])\n",
        "        except Exception:\n",
        "            continue\n",
        "    return []\n",
        "\n",
        "# --- Get recipe links from category feed ---\n",
        "def get_recipe_links_feed(feed_url, limit=20):\n",
        "    resp = requests.get(feed_url)\n",
        "    if resp.status_code != 200:\n",
        "        return []\n",
        "    root = ET.fromstring(resp.content)\n",
        "\n",
        "    links = []\n",
        "    for item in root.findall(\"./channel/item\")[:limit]:\n",
        "        link_elem = item.find(\"link\")\n",
        "        if link_elem is not None and link_elem.text:\n",
        "            links.append(link_elem.text.strip())\n",
        "    return links\n",
        "\n",
        "# --- Get all category feed URLs from sitemap (with namespace fix) ---\n",
        "def get_all_category_feeds():\n",
        "    sitemap_url = \"https://tasteasianfood.com/category-sitemap.xml\"\n",
        "    resp = requests.get(sitemap_url)\n",
        "    resp.raise_for_status()\n",
        "    root = ET.fromstring(resp.content)\n",
        "\n",
        "    ns = {\"sm\": \"http://www.sitemaps.org/schemas/sitemap/0.9\"}\n",
        "    feeds = {}\n",
        "    for url_elem in root.findall(\".//sm:loc\", ns):\n",
        "        cat_url = url_elem.text.strip()\n",
        "        if \"/category/\" in cat_url:\n",
        "            cat_name = cat_url.split(\"/\")[-2].lower()   # normalize name\n",
        "            feeds[cat_name] = cat_url + \"feed/\"\n",
        "    return feeds\n",
        "\n",
        "# --- Scrape only target country categories ---\n",
        "def scrape_all(limit_per_cat=20):\n",
        "    categories = get_all_category_feeds()\n",
        "    # filter to only country cuisines\n",
        "    categories = {name: feed for name, feed in categories.items() if name in TARGET_CUISINES}\n",
        "\n",
        "    all_ingredients = {}\n",
        "    for name, feed_url in categories.items():\n",
        "        print(f\"Scraping {name}...\")\n",
        "        links = get_recipe_links_feed(feed_url, limit=limit_per_cat)\n",
        "        cat_ingredients = []\n",
        "        for link in links:\n",
        "            ingredients = parse_ingredients_jsonld(link)\n",
        "            if ingredients:\n",
        "                cat_ingredients.extend(ingredients)\n",
        "        all_ingredients[name] = cat_ingredients\n",
        "    return all_ingredients\n",
        "\n",
        "# --- Run ---\n",
        "all_ingredients = scrape_all(limit_per_cat=20)\n",
        "\n",
        "with open(\"asian_ingredients_by_country.json\", \"w\", encoding=\"utf-8\") as f:\n",
        "    json.dump(all_ingredients, f, ensure_ascii=False, indent=2)\n",
        "\n",
        "print(\"✅ Done! Saved to asian_ingredients_by_country.json\")\n"
      ],
      "metadata": {
        "colab": {
          "base_uri": "https://localhost:8080/"
        },
        "id": "2-xl7dfTN0hj",
        "outputId": "4eaccb0f-1fc3-4018-f9f1-f5bcf9d46b8e"
      },
      "execution_count": 28,
      "outputs": [
        {
          "output_type": "stream",
          "name": "stdout",
          "text": [
            "Scraping chinese...\n",
            "Scraping indian...\n",
            "Scraping japanese...\n",
            "Scraping korean...\n",
            "Scraping malaysian...\n",
            "Scraping thai...\n",
            "Scraping vietnamese...\n",
            "✅ Done! Saved to asian_ingredients_by_country.json\n"
          ]
        }
      ]
    },
    {
      "cell_type": "code",
      "source": [
        "import os\n",
        "os.listdir()\n"
      ],
      "metadata": {
        "colab": {
          "base_uri": "https://localhost:8080/"
        },
        "id": "Z1-dFvWEOTuY",
        "outputId": "7d858b3b-bb0f-43fe-988c-dc6cd87b0903"
      },
      "execution_count": 29,
      "outputs": [
        {
          "output_type": "execute_result",
          "data": {
            "text/plain": [
              "['.config',\n",
              " 'asian_recipes.csv',\n",
              " 'asian_ingredients_by_country.json',\n",
              " 'asian_ingredients.json',\n",
              " 'asian_recipes.json',\n",
              " 'sample_data']"
            ]
          },
          "metadata": {},
          "execution_count": 29
        }
      ]
    },
    {
      "cell_type": "code",
      "source": [
        "from google.colab import files\n",
        "\n",
        "files.download(\"asian_ingredients_by_country.json\")\n",
        "\n",
        "\n"
      ],
      "metadata": {
        "colab": {
          "base_uri": "https://localhost:8080/",
          "height": 17
        },
        "id": "qu4GxBGEOdx5",
        "outputId": "5abe66b4-8f8c-4540-86d8-ca6031f2ed45"
      },
      "execution_count": 30,
      "outputs": [
        {
          "output_type": "display_data",
          "data": {
            "text/plain": [
              "<IPython.core.display.Javascript object>"
            ],
            "application/javascript": [
              "\n",
              "    async function download(id, filename, size) {\n",
              "      if (!google.colab.kernel.accessAllowed) {\n",
              "        return;\n",
              "      }\n",
              "      const div = document.createElement('div');\n",
              "      const label = document.createElement('label');\n",
              "      label.textContent = `Downloading \"${filename}\": `;\n",
              "      div.appendChild(label);\n",
              "      const progress = document.createElement('progress');\n",
              "      progress.max = size;\n",
              "      div.appendChild(progress);\n",
              "      document.body.appendChild(div);\n",
              "\n",
              "      const buffers = [];\n",
              "      let downloaded = 0;\n",
              "\n",
              "      const channel = await google.colab.kernel.comms.open(id);\n",
              "      // Send a message to notify the kernel that we're ready.\n",
              "      channel.send({})\n",
              "\n",
              "      for await (const message of channel.messages) {\n",
              "        // Send a message to notify the kernel that we're ready.\n",
              "        channel.send({})\n",
              "        if (message.buffers) {\n",
              "          for (const buffer of message.buffers) {\n",
              "            buffers.push(buffer);\n",
              "            downloaded += buffer.byteLength;\n",
              "            progress.value = downloaded;\n",
              "          }\n",
              "        }\n",
              "      }\n",
              "      const blob = new Blob(buffers, {type: 'application/binary'});\n",
              "      const a = document.createElement('a');\n",
              "      a.href = window.URL.createObjectURL(blob);\n",
              "      a.download = filename;\n",
              "      div.appendChild(a);\n",
              "      a.click();\n",
              "      div.remove();\n",
              "    }\n",
              "  "
            ]
          },
          "metadata": {}
        },
        {
          "output_type": "display_data",
          "data": {
            "text/plain": [
              "<IPython.core.display.Javascript object>"
            ],
            "application/javascript": [
              "download(\"download_9fed2459-d18b-4f0f-ba14-81b3e8da4d16\", \"asian_ingredients_by_country.json\", 29697)"
            ]
          },
          "metadata": {}
        }
      ]
    },
    {
      "cell_type": "code",
      "source": [
        "# Save CSV (flattened)\n",
        "rows = []\n",
        "for country, ingredients in all_ingredients.items():\n",
        "    for ing in ingredients:\n",
        "        rows.append({\"country\": country, \"ingredient\": ing})\n",
        "\n",
        "df = pd.DataFrame(rows)\n",
        "df.to_csv(\"asian_ingredients_by_country.csv\", index=False)\n",
        "\n",
        "print(\"✅ Done! Saved to asian_ingredients_by_country.json and asian_ingredients_by_country.csv\")"
      ],
      "metadata": {
        "colab": {
          "base_uri": "https://localhost:8080/"
        },
        "id": "RnKMdSVBOo7N",
        "outputId": "8c538ad8-4794-4212-8dff-68326e338e95"
      },
      "execution_count": 31,
      "outputs": [
        {
          "output_type": "stream",
          "name": "stdout",
          "text": [
            "✅ Done! Saved to asian_ingredients_by_country.json and asian_ingredients_by_country.csv\n"
          ]
        }
      ]
    },
    {
      "cell_type": "code",
      "source": [
        "from google.colab import files\n",
        "\n",
        "\n",
        "files.download(\"asian_ingredients_by_country.csv\")\n"
      ],
      "metadata": {
        "colab": {
          "base_uri": "https://localhost:8080/",
          "height": 17
        },
        "id": "wmfh8AA4Os77",
        "outputId": "cd79d20b-1cbc-4aa5-94e3-6e4b4af66d76"
      },
      "execution_count": 32,
      "outputs": [
        {
          "output_type": "display_data",
          "data": {
            "text/plain": [
              "<IPython.core.display.Javascript object>"
            ],
            "application/javascript": [
              "\n",
              "    async function download(id, filename, size) {\n",
              "      if (!google.colab.kernel.accessAllowed) {\n",
              "        return;\n",
              "      }\n",
              "      const div = document.createElement('div');\n",
              "      const label = document.createElement('label');\n",
              "      label.textContent = `Downloading \"${filename}\": `;\n",
              "      div.appendChild(label);\n",
              "      const progress = document.createElement('progress');\n",
              "      progress.max = size;\n",
              "      div.appendChild(progress);\n",
              "      document.body.appendChild(div);\n",
              "\n",
              "      const buffers = [];\n",
              "      let downloaded = 0;\n",
              "\n",
              "      const channel = await google.colab.kernel.comms.open(id);\n",
              "      // Send a message to notify the kernel that we're ready.\n",
              "      channel.send({})\n",
              "\n",
              "      for await (const message of channel.messages) {\n",
              "        // Send a message to notify the kernel that we're ready.\n",
              "        channel.send({})\n",
              "        if (message.buffers) {\n",
              "          for (const buffer of message.buffers) {\n",
              "            buffers.push(buffer);\n",
              "            downloaded += buffer.byteLength;\n",
              "            progress.value = downloaded;\n",
              "          }\n",
              "        }\n",
              "      }\n",
              "      const blob = new Blob(buffers, {type: 'application/binary'});\n",
              "      const a = document.createElement('a');\n",
              "      a.href = window.URL.createObjectURL(blob);\n",
              "      a.download = filename;\n",
              "      div.appendChild(a);\n",
              "      a.click();\n",
              "      div.remove();\n",
              "    }\n",
              "  "
            ]
          },
          "metadata": {}
        },
        {
          "output_type": "display_data",
          "data": {
            "text/plain": [
              "<IPython.core.display.Javascript object>"
            ],
            "application/javascript": [
              "download(\"download_9e98ed68-0718-44ff-802e-71e9c5258c70\", \"asian_ingredients_by_country.csv\", 31027)"
            ]
          },
          "metadata": {}
        }
      ]
    }
  ]
}